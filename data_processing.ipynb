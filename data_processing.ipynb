{
 "cells": [
  {
   "cell_type": "code",
   "execution_count": 5,
   "id": "a9b7c6bd",
   "metadata": {},
   "outputs": [],
   "source": [
    "# improts \n",
    "import pandas as pd"
   ]
  },
  {
   "cell_type": "code",
   "execution_count": 15,
   "id": "aeae9113",
   "metadata": {},
   "outputs": [],
   "source": [
    "# load data\n",
    "df = pd.read_csv('products.csv')"
   ]
  },
  {
   "cell_type": "code",
   "execution_count": 24,
   "id": "293e780a",
   "metadata": {},
   "outputs": [
    {
     "name": "stdout",
     "output_type": "stream",
     "text": [
      "<class 'pandas.core.frame.DataFrame'>\n",
      "RangeIndex: 1303 entries, 0 to 1302\n",
      "Data columns (total 3 columns):\n",
      " #   Column     Non-Null Count  Dtype \n",
      "---  ------     --------------  ----- \n",
      " 0   brand      1303 non-null   object\n",
      " 1   product    1303 non-null   object\n",
      " 2   image_url  1303 non-null   object\n",
      "dtypes: object(3)\n",
      "memory usage: 30.7+ KB\n"
     ]
    }
   ],
   "source": [
    "df.info()"
   ]
  },
  {
   "cell_type": "markdown",
   "id": "7aa14b38",
   "metadata": {},
   "source": [
    "## Images\n",
    "scraped images are not full size, to get the full size images we need to modify the url as following<br>\n",
    "url: **path/to/image.100.jpg**<br>\n",
    "full size image url: **path/to/image.full.jpg**<br>\n",
    "There are some products with no images, so we gonna find an **svg** place holder."
   ]
  },
  {
   "cell_type": "code",
   "execution_count": 31,
   "id": "cce35dd5",
   "metadata": {},
   "outputs": [
    {
     "data": {
      "text/plain": [
       "'https://images.openfoodfacts.org/images/products/613/023/400/2366/front_fr.17.100.jpg'"
      ]
     },
     "execution_count": 31,
     "metadata": {},
     "output_type": "execute_result"
    }
   ],
   "source": [
    "df.image_url[0]"
   ]
  },
  {
   "cell_type": "code",
   "execution_count": 35,
   "id": "e059ac81",
   "metadata": {},
   "outputs": [],
   "source": [
    "def there_is_image(url):\n",
    "    '''\n",
    "    check if there is an image or it's just an svg place holder\n",
    "    '''\n",
    "    return url.endswith('.100.jpg')"
   ]
  },
  {
   "cell_type": "code",
   "execution_count": 36,
   "id": "4b784add",
   "metadata": {},
   "outputs": [
    {
     "data": {
      "text/plain": [
       "1142"
      ]
     },
     "execution_count": 36,
     "metadata": {},
     "output_type": "execute_result"
    }
   ],
   "source": [
    "df.image_url.apply(there_is_image).sum()"
   ]
  },
  {
   "cell_type": "code",
   "execution_count": 38,
   "id": "f885aabd",
   "metadata": {},
   "outputs": [
    {
     "data": {
      "text/plain": [
       "161"
      ]
     },
     "execution_count": 38,
     "metadata": {},
     "output_type": "execute_result"
    }
   ],
   "source": [
    "df.image_url.apply(lambda x: x.endswith('.svg')).sum()"
   ]
  },
  {
   "cell_type": "code",
   "execution_count": 39,
   "id": "0ec0faa4",
   "metadata": {},
   "outputs": [
    {
     "data": {
      "text/plain": [
       "1142"
      ]
     },
     "execution_count": 39,
     "metadata": {},
     "output_type": "execute_result"
    }
   ],
   "source": [
    "df.image_url.apply(lambda x: x.endswith('.jpg')).sum()"
   ]
  },
  {
   "cell_type": "code",
   "execution_count": 54,
   "id": "096514ae",
   "metadata": {},
   "outputs": [
    {
     "data": {
      "text/plain": [
       "jpg    1142\n",
       "svg     161\n",
       "Name: image_url, dtype: int64"
      ]
     },
     "execution_count": 54,
     "metadata": {},
     "output_type": "execute_result"
    }
   ],
   "source": [
    "df.image_url.apply(lambda x: x[-3:]).value_counts()"
   ]
  },
  {
   "cell_type": "code",
   "execution_count": 43,
   "id": "070ea970",
   "metadata": {},
   "outputs": [],
   "source": [
    "def get_full_size_image_url(url):\n",
    "    if url.endswith('.100.jpg'):\n",
    "        return url.replace('.100.jpg', '.full.jpg')\n",
    "    else:\n",
    "        return url"
   ]
  },
  {
   "cell_type": "code",
   "execution_count": 45,
   "id": "e0d0826a",
   "metadata": {},
   "outputs": [],
   "source": [
    "df.image_url = df.image_url.apply(get_full_size_image_url)"
   ]
  },
  {
   "cell_type": "code",
   "execution_count": 47,
   "id": "1ebaa556",
   "metadata": {},
   "outputs": [],
   "source": [
    "df.to_excel('products.xlsx', index=False)"
   ]
  }
 ],
 "metadata": {
  "kernelspec": {
   "display_name": "scraping",
   "language": "python",
   "name": "scraping"
  },
  "language_info": {
   "codemirror_mode": {
    "name": "ipython",
    "version": 3
   },
   "file_extension": ".py",
   "mimetype": "text/x-python",
   "name": "python",
   "nbconvert_exporter": "python",
   "pygments_lexer": "ipython3",
   "version": "3.9.5"
  },
  "toc": {
   "base_numbering": 1,
   "nav_menu": {},
   "number_sections": true,
   "sideBar": true,
   "skip_h1_title": false,
   "title_cell": "Table of Contents",
   "title_sidebar": "Contents",
   "toc_cell": false,
   "toc_position": {},
   "toc_section_display": true,
   "toc_window_display": false
  },
  "varInspector": {
   "cols": {
    "lenName": 16,
    "lenType": 16,
    "lenVar": 40
   },
   "kernels_config": {
    "python": {
     "delete_cmd_postfix": "",
     "delete_cmd_prefix": "del ",
     "library": "var_list.py",
     "varRefreshCmd": "print(var_dic_list())"
    },
    "r": {
     "delete_cmd_postfix": ") ",
     "delete_cmd_prefix": "rm(",
     "library": "var_list.r",
     "varRefreshCmd": "cat(var_dic_list()) "
    }
   },
   "types_to_exclude": [
    "module",
    "function",
    "builtin_function_or_method",
    "instance",
    "_Feature"
   ],
   "window_display": false
  }
 },
 "nbformat": 4,
 "nbformat_minor": 5
}
